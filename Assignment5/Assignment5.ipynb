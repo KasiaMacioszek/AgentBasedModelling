{
 "cells": [
  {
   "cell_type": "code",
   "execution_count": 3,
   "metadata": {},
   "outputs": [],
   "source": [
    "import networkx as nx\n",
    "import matplotlib.pyplot as plt\n",
    "import numpy as np\n",
    "import random\n",
    "import pandas as pd"
   ]
  },
  {
   "cell_type": "code",
   "execution_count": 4,
   "metadata": {},
   "outputs": [],
   "source": [
    "plt.rcParams['figure.figsize'] = (10, 6)\n",
    "plt.rcParams['figure.dpi'] = 150"
   ]
  },
  {
   "cell_type": "code",
   "execution_count": 5,
   "metadata": {},
   "outputs": [],
   "source": [
    "graph = nx.complete_graph(100)"
   ]
  },
  {
   "cell_type": "code",
   "execution_count": null,
   "metadata": {},
   "outputs": [],
   "source": [
    "MC_STEPS = 1000\n",
    "Q = 4\n",
    "N = 100"
   ]
  },
  {
   "cell_type": "code",
   "execution_count": 6,
   "metadata": {},
   "outputs": [],
   "source": [
    "def get_neighbors(graph):\n",
    "    d = {}\n",
    "    for node in list(graph.nodes()):\n",
    "        d[node] = list(graph.neighbors(node))\n",
    "    return d"
   ]
  },
  {
   "cell_type": "code",
   "execution_count": null,
   "metadata": {},
   "outputs": [],
   "source": [
    "def get_opinions(opinion1_prop, nodes_num):\n",
    "    opinion1 = int(opinion1_prop*nodes_num)\n",
    "    opinions = [-1]*(nodes_num - opinion1) + [1]*opinion1\n",
    "    random.shuffle(opinions)\n",
    "    opinions_dict = {i:opinions[i] for i in range(nodes_num)}\n",
    "    return opinions_dict"
   ]
  },
  {
   "cell_type": "code",
   "execution_count": null,
   "metadata": {},
   "outputs": [],
   "source": [
    "def q_voter_model(graph, p, q, epsilon, opinion1, MC_steps):\n",
    "    opinions = get_opinions(opinion1, nx.number_of_nodes(graph))\n",
    "    neighbors = get_neighbors(graph)\n",
    "    nodes = list(neighbors.keys())\n",
    "    n = len(nodes)\n",
    "    magn = np.zeros(MC_steps)\n",
    "    for i in range(MC_steps):\n",
    "        nodes = np.random.randint(0, n, size=n)\n",
    "        ps = np.random.uniform(size=n) < p\n",
    "        epsilons = np.random.uniform(size=n) < epsilon\n",
    "        \n",
    "        for j, node in enumerate(nodes):\n",
    "            node_opinion = opinions[node]\n",
    "            contrary = -1 if node_opinion == 1 else 1\n",
    "            if ps[j]:\n",
    "                opinions[node] = contrary if random.uniform(0, 1) < 0.5 else node_opinion\n",
    "            else:\n",
    "                curr_q = q\n",
    "                if q > len(neighbors[node]):\n",
    "                    curr_q = len(neighbors[node])\n",
    "                neighbor_list = random.choices(neighbors[node], k=curr_q)\n",
    "                neighbors_opinions = [opinions[i] for i in neighbor_list]\n",
    "                if neighbors_opinions.count(node_opinion) == 0:\n",
    "                    opinions[node] = contrary\n",
    "                elif neighbors_opinions.count(contrary) != 0 and epsilons[j]:\n",
    "                    opinions[node] = contrary\n",
    "        magn[i] = sum(opinions.values())/n\n",
    "    return opinions, magn"
   ]
  },
  {
   "cell_type": "code",
   "execution_count": null,
   "metadata": {},
   "outputs": [],
   "source": [
    "def q_voter_model_new(graph, p, q, f, epsilon, opinion1, MC_steps):\n",
    "    # adjust\n",
    "    opinions = get_opinions(opinion1, nx.number_of_nodes(graph))\n",
    "    neighbors = get_neighbors(graph)\n",
    "    nodes = list(neighbors.keys())\n",
    "    n = len(nodes)\n",
    "    magn = np.zeros(MC_steps)\n",
    "    for i in range(MC_steps):\n",
    "        nodes = np.random.randint(0, n, size=n)\n",
    "        ps = np.random.uniform(size=n) < p\n",
    "        #epsilons = np.random.uniform(size=n) < epsilon\n",
    "        \n",
    "        for j, node in enumerate(nodes):\n",
    "            node_opinion = opinions[node]\n",
    "            contrary = -1 if node_opinion == 1 else 1\n",
    "            if ps[j]:\n",
    "                opinions[node] = contrary if random.uniform(0, 1) < f else node_opinion\n",
    "            else:\n",
    "                curr_q = q\n",
    "                if q > len(neighbors[node]):\n",
    "                    curr_q = len(neighbors[node])\n",
    "                neighbor_list = random.choices(neighbors[node], k=curr_q)\n",
    "                neighbors_opinions = [opinions[i] for i in neighbor_list]\n",
    "                if neighbors_opinions.count(node_opinion) == 0:\n",
    "                    opinions[node] = contrary\n",
    "                # elif neighbors_opinions.count(contrary) != 0 and epsilons[j]:\n",
    "                #     opinions[node] = contrary\n",
    "        magn[i] = sum(opinions.values())/n\n",
    "    return opinions, magn"
   ]
  },
  {
   "cell_type": "code",
   "execution_count": null,
   "metadata": {},
   "outputs": [],
   "source": [
    "ps = np.arange(0, 1, 0.05)"
   ]
  },
  {
   "cell_type": "code",
   "execution_count": 7,
   "metadata": {},
   "outputs": [],
   "source": [
    "fs = [0.2, 0.3, 0.4, 0.5]"
   ]
  },
  {
   "cell_type": "code",
   "execution_count": null,
   "metadata": {},
   "outputs": [],
   "source": [
    "def simulate_q_voter_CG(p, q, epsilon, MC_steps=1000, steps=100, opinion1=1, N=100):\n",
    "    graph = nx.complete_graph(N)\n",
    "    results = np.zeros((steps, MC_steps))\n",
    "    for i in range(steps):\n",
    "        _, magn = q_voter_model(graph, p, q, epsilon, opinion1, MC_steps)\n",
    "        results[i] = abs(magn)\n",
    "    return np.mean(results, axis = 0)"
   ]
  },
  {
   "cell_type": "markdown",
   "metadata": {},
   "source": [
    "## Magnetization"
   ]
  },
  {
   "cell_type": "code",
   "execution_count": null,
   "metadata": {},
   "outputs": [],
   "source": [
    "def simulate_magnetization(ps, f, Q, MC_steps=1000, steps=100, graph_size=100):\n",
    "    final_magn = np.zeros(len(ps))\n",
    "    for i, p in enumerate(ps):\n",
    "        print(i)\n",
    "        final_magn[i] = simulate_q_voter_CG(p, Q, f, MC_steps=MC_steps, steps=steps, opinion1=1, N=graph_size)[-1]"
   ]
  },
  {
   "cell_type": "code",
   "execution_count": 8,
   "metadata": {},
   "outputs": [],
   "source": [
    "MC_STEPS = 1000\n",
    "repetitions = 100\n",
    "size=100"
   ]
  },
  {
   "cell_type": "code",
   "execution_count": null,
   "metadata": {},
   "outputs": [],
   "source": [
    "magn = list(np.zeros(len(fs)))\n",
    "for i, f in enumerate(fs):\n",
    "    magn[i] = simulate_magnetization(ps, f, Q=4, MC_steps=MC_STEPS, steps=repetitions, graph_size=100)"
   ]
  }
 ],
 "metadata": {
  "kernelspec": {
   "display_name": "Python 3",
   "language": "python",
   "name": "python3"
  },
  "language_info": {
   "codemirror_mode": {
    "name": "ipython",
    "version": 3
   },
   "file_extension": ".py",
   "mimetype": "text/x-python",
   "name": "python",
   "nbconvert_exporter": "python",
   "pygments_lexer": "ipython3",
   "version": "3.11.3"
  }
 },
 "nbformat": 4,
 "nbformat_minor": 2
}
