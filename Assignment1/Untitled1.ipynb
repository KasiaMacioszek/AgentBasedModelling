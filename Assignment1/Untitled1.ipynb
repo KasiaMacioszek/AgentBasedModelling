{
 "cells": [
  {
   "cell_type": "code",
   "execution_count": 1,
   "id": "af1fe5e5",
   "metadata": {},
   "outputs": [],
   "source": [
    "import numpy as np\n",
    "import seaborn as sns\n",
    "from matplotlib import pyplot as plt, animation\n",
    "from PIL import Image\n",
    "from matplotlib.colors import ListedColormap"
   ]
  },
  {
   "cell_type": "code",
   "execution_count": 3,
   "id": "9cdf5945",
   "metadata": {},
   "outputs": [],
   "source": [
    "class BurningForest():\n",
    "    # 0 - empty, 1 - occupied, -1 - burning, 2 - burned\n",
    "\n",
    "    def __init__(self, L, wind=False, windStrength=0):\n",
    "        self.L = L\n",
    "        self.forest = np.zeros((L, L))\n",
    "        \n",
    "        self.allLabels = np.arange(L*L)\n",
    "    \n",
    "    def initiateForest(self, p):\n",
    "        self.forest = np.zeros((self.L, self.L))\n",
    "        for i in range(self.L):\n",
    "            for j in range(self.L):\n",
    "                if np.random.uniform() < p:\n",
    "                    self.forest[i, j] = 1\n",
    "                    \n",
    "    def initiateFire(self):\n",
    "        for i in range(self.L):\n",
    "            state = self.forest[i, 0]\n",
    "            if state == 1:\n",
    "                self.forest[i, 0] = -1\n",
    "                self.burning.append((i, 0))\n",
    "                \n",
    "    def get_neighbors(self, pos):\n",
    "        i = pos[0]\n",
    "        j = pos[1]\n",
    "        neighbors = [(i-1, j-1), (i-1, j), (i+1, j), (i, j+1), (i, j-1), (i-1, j+1), (i+1, j-1), (i+1, j+1)]\n",
    "        cleaned_neighbors = [(x, y) for x, y in neighbors if (x >= 0 and x < self.n and y >= 0 and y < self.m)]\n",
    "        return cleaned_neighbors\n",
    "    \n",
    "    def performBurning(self, numberOfSimulations=100, wind=False):\n",
    "        ps = np.arange(0.01, 1, 0.01)\n",
    "        res = np.zeros(len(ps))\n",
    "        for p in range(len(ps)):\n",
    "            for i in range(numberOfSimulations):\n",
    "                self.initiateForest(ps[p])\n",
    "                if (not wind): \n",
    "                    res[p] += self.simulateFire()\n",
    "                else:\n",
    "                    res[p] += self.simulateFireWithWind()\n",
    "            res[p] /= numberOfSimulations\n",
    "        return res\n",
    "    \n",
    "    def simulateFire(self):\n",
    "        self.initiateFire()\n",
    "        fireOngoing = True\n",
    "        while fireOngoing:\n",
    "            self.burning = list(zip(*np.where(self.forest == -1)))\n",
    "            if len(self.burning) == 0:\n",
    "                return 0\n",
    "            for tree in self.burning:\n",
    "                neighbors = self.get_neighbors(tree)\n",
    "                for neighbor in neighbors:\n",
    "                    i, j = neighbor\n",
    "                    if self.forest[i, j] == 1:\n",
    "                        if j >= self.L-1:\n",
    "                            return 1\n",
    "                        self.forest[i, j] = -1\n",
    "                self.forest[tree[0], tree[1]] = 2\n",
    "        return 0"
   ]
  },
  {
   "cell_type": "code",
   "execution_count": 4,
   "id": "f228d8cf",
   "metadata": {},
   "outputs": [],
   "source": [
    "def animateFire(data, gif_name=\"anim\"):\n",
    "    fig = plt.figure()\n",
    "    sns.heatmap(data[0], vmax=.8, square=True, cbar=False, cmap=ListedColormap(['red', 'black', 'green']), yticklabels=False, xticklabels=False)\n",
    "\n",
    "    def init():\n",
    "        sns.heatmap(data[0], vmax=.8, square=True, cbar=False, cmap=ListedColormap(['red', 'black', 'green']), yticklabels=False, xticklabels=False)\n",
    "\n",
    "    def animate(i):\n",
    "        sns.heatmap(data[i], vmax=.8, square=True, cbar=False, cmap=ListedColormap(['red', 'black', 'green']), yticklabels=False, xticklabels=False)\n",
    "\n",
    "    anim = animation.FuncAnimation(fig, animate, init_func=init, frames=len(data), repeat = False)\n",
    "    anim.save(f'images/{gif_name}.gif')"
   ]
  },
  {
   "cell_type": "code",
   "execution_count": 5,
   "id": "0fe01ffc",
   "metadata": {},
   "outputs": [],
   "source": [
    "def clean_results(res, L):\n",
    "    new_res = list(np.zeros(int(len(res)/L-1)))\n",
    "    for i in range(len(new_res)):\n",
    "        new_res[i] = res[int((i+1)*L): int((i+2)*L)]\n",
    "    return new_res"
   ]
  },
  {
   "cell_type": "code",
   "execution_count": null,
   "id": "c65ab392",
   "metadata": {},
   "outputs": [],
   "source": []
  }
 ],
 "metadata": {
  "kernelspec": {
   "display_name": "Python 3 (ipykernel)",
   "language": "python",
   "name": "python3"
  },
  "language_info": {
   "codemirror_mode": {
    "name": "ipython",
    "version": 3
   },
   "file_extension": ".py",
   "mimetype": "text/x-python",
   "name": "python",
   "nbconvert_exporter": "python",
   "pygments_lexer": "ipython3",
   "version": "3.11.3"
  }
 },
 "nbformat": 4,
 "nbformat_minor": 5
}
