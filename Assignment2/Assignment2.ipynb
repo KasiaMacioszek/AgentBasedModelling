{
 "cells": [
  {
   "cell_type": "code",
   "execution_count": 1,
   "id": "03aefb7f",
   "metadata": {},
   "outputs": [],
   "source": [
    "import numpy as np\n",
    "import seaborn as sns\n",
    "from matplotlib import pyplot as plt, animation\n",
    "from matplotlib.colors import ListedColormap"
   ]
  },
  {
   "cell_type": "code",
   "execution_count": 2,
   "id": "3f8c8983",
   "metadata": {},
   "outputs": [],
   "source": [
    "class GameOfLife():\n",
    "    # initial state (array) with 0 - dead, 1 - alive\n",
    "    def __init__(self, initial_state, num_of_steps=100):\n",
    "        self.initial_state = initial_state\n",
    "        self.n, self.m = initial_state.shape\n",
    "        self.current_state = np.zeros((self.n, self.m))\n",
    "        self.max_step = num_of_steps\n",
    "    \n",
    "    def get_neighbors(self, pos):\n",
    "        i, j = pos\n",
    "        newI_1 = i+1 if i+1 < self.n else i+1-self.n\n",
    "        newJ_1 = j+1 if j+1 < self.m else j+1-self.m\n",
    "        neighbors = [(i-1, j-1), (i-1, j), (newI_1, j), (i, newJ_1), (i, j-1), (i-1, newJ_1), (newI_1, j-1), (newI_1, newJ_1)]\n",
    "        return neighbors\n",
    "    \n",
    "    def game_of_life(self):\n",
    "        gameOngoing = True\n",
    "        \n",
    "        life_states = self.initial_state\n",
    "        self.current_state = self.initial_state\n",
    "        \n",
    "        iterator = 0\n",
    "        while gameOngoing and iterator < self.max_step:\n",
    "            iterator += 1\n",
    "            life_states = np.vstack([life_states, self.current_state])\n",
    "            game_state = np.copy(self.current_state)\n",
    "            for x in range(self.n):\n",
    "                for y in range(self.m):\n",
    "                    node_state = self.current_state[x, y]\n",
    "                    neighbors = self.get_neighbors((x, y))\n",
    "                    neighbors_states = [self.current_state[pos[0], pos[1]] for pos in neighbors]\n",
    "                    states_sum = sum(neighbors_states)\n",
    "                    if node_state == 0:\n",
    "                        if states_sum == 3:\n",
    "                            game_state[x, y] = 1\n",
    "                    else:\n",
    "                        if states_sum < 2 or states_sum > 3:\n",
    "                            game_state[x, y] = 0\n",
    "            if np.sum(game_state) == 0:\n",
    "                gameOngoing = False\n",
    "            self.current_state = game_state\n",
    "        life_states = np.vstack([life_states, self.current_state])\n",
    "        return life_states"
   ]
  },
  {
   "cell_type": "code",
   "execution_count": 3,
   "id": "6a1578b5",
   "metadata": {},
   "outputs": [],
   "source": [
    "def animate_life(data, gif_name=\"anim\"):\n",
    "    fig = plt.figure()\n",
    "    sns.heatmap(data[0], vmax=.8, square=True, cbar=False, cmap=ListedColormap(['white', 'black']), yticklabels=False, xticklabels=False)\n",
    "\n",
    "    def init():\n",
    "        sns.heatmap(data[0], vmax=.8, square=True, cbar=False, cmap=ListedColormap(['white', 'black']), yticklabels=False, xticklabels=False)\n",
    "\n",
    "    def animate(i):\n",
    "        sns.heatmap(data[i], vmax=.8, square=True, cbar=False, cmap=ListedColormap(['white', 'black']), yticklabels=False, xticklabels=False)\n",
    "\n",
    "    anim = animation.FuncAnimation(fig, animate, init_func=init, frames=len(data), repeat = False)\n",
    "    anim.save(f'images/{gif_name}.gif')\n"
   ]
  },
  {
   "cell_type": "code",
   "execution_count": 4,
   "id": "aaf5678b",
   "metadata": {},
   "outputs": [],
   "source": [
    "def clean_results(res, L):\n",
    "    new_res = list(np.zeros(int(len(res)/L-1)))\n",
    "    for i in range(len(new_res)):\n",
    "        new_res[i] = res[int((i+1)*L): int((i+2)*L)]\n",
    "    return new_res"
   ]
  },
  {
   "cell_type": "code",
   "execution_count": 5,
   "id": "c1297fce",
   "metadata": {},
   "outputs": [],
   "source": [
    "def load_initial_state(filename):\n",
    "    result = np.loadtxt(f\"is/{filename}\", dtype=int, converters=float)\n",
    "    return result"
   ]
  },
  {
   "cell_type": "code",
   "execution_count": 6,
   "id": "43327a21",
   "metadata": {},
   "outputs": [],
   "source": [
    "def write_is(filename, matrix):\n",
    "    np.savetxt(f\"is/{filename}\", matrix)"
   ]
  },
  {
   "cell_type": "markdown",
   "id": "b511d10b",
   "metadata": {},
   "source": [
    "## Beacon"
   ]
  },
  {
   "cell_type": "code",
   "execution_count": 7,
   "id": "e7ad32b6",
   "metadata": {},
   "outputs": [],
   "source": [
    "beaconIS = np.array([[0, 0, 0, 0, 0, 0],\n",
    "            [0, 1, 1, 0, 0, 0],\n",
    "            [0, 1, 1, 0, 0, 0],\n",
    "            [0, 0, 0, 1, 1, 0],\n",
    "            [0, 0, 0, 1, 1, 0],\n",
    "            [0, 0, 0, 0, 0, 0]])"
   ]
  },
  {
   "cell_type": "code",
   "execution_count": 8,
   "id": "0de6b9b2",
   "metadata": {},
   "outputs": [],
   "source": [
    "write_is(\"beacon.txt\", beaconIS)"
   ]
  },
  {
   "cell_type": "code",
   "execution_count": 9,
   "id": "a3c34005",
   "metadata": {},
   "outputs": [],
   "source": [
    "beaconIS = load_initial_state(\"beacon.txt\")"
   ]
  },
  {
   "cell_type": "code",
   "execution_count": 10,
   "id": "1a6a7d2d",
   "metadata": {},
   "outputs": [],
   "source": [
    "LG = GameOfLife(beaconIS)"
   ]
  },
  {
   "cell_type": "code",
   "execution_count": 11,
   "id": "2e9c29fd",
   "metadata": {},
   "outputs": [],
   "source": [
    "states = LG.game_of_life()"
   ]
  },
  {
   "cell_type": "code",
   "execution_count": 12,
   "id": "4b1e7c5d",
   "metadata": {},
   "outputs": [],
   "source": [
    "new_l = clean_results(states, beaconIS.shape[1])"
   ]
  },
  {
   "cell_type": "code",
   "execution_count": 13,
   "id": "4323ebb9",
   "metadata": {},
   "outputs": [
    {
     "name": "stderr",
     "output_type": "stream",
     "text": [
      "MovieWriter ffmpeg unavailable; using Pillow instead.\n"
     ]
    },
    {
     "data": {
      "image/png": "[encoded data removed]",
      "text/plain": [
       "<Figure size 640x480 with 1 Axes>"
      ]
     },
     "metadata": {},
     "output_type": "display_data"
    }
   ],
   "source": [
    "animate_life(new_l, gif_name=\"beaconTest1\")"
   ]
  },
  {
   "cell_type": "markdown",
   "id": "f3882e8a",
   "metadata": {},
   "source": [
    "## Random graph"
   ]
  },
  {
   "cell_type": "code",
   "execution_count": 26,
   "id": "711b7e5e",
   "metadata": {},
   "outputs": [],
   "source": [
    "random_is = np.random.randint(0, 2, size=(100, 100)) "
   ]
  },
  {
   "cell_type": "code",
   "execution_count": 27,
   "id": "d2b4ce0d",
   "metadata": {},
   "outputs": [],
   "source": [
    "write_is(\"random.txt\", random_is)"
   ]
  },
  {
   "cell_type": "code",
   "execution_count": 28,
   "id": "7cf23e0d",
   "metadata": {},
   "outputs": [],
   "source": [
    "random = load_initial_state(\"random.txt\")"
   ]
  },
  {
   "cell_type": "code",
   "execution_count": 29,
   "id": "24b411e9",
   "metadata": {},
   "outputs": [],
   "source": [
    "LG = GameOfLife(random, 500)"
   ]
  },
  {
   "cell_type": "code",
   "execution_count": 30,
   "id": "8c7df400",
   "metadata": {},
   "outputs": [],
   "source": [
    "states = LG.game_of_life()"
   ]
  },
  {
   "cell_type": "code",
   "execution_count": 31,
   "id": "948db874",
   "metadata": {},
   "outputs": [],
   "source": [
    "new_l = clean_results(states, random.shape[1])"
   ]
  },
  {
   "cell_type": "code",
   "execution_count": 32,
   "id": "1e0fe452",
   "metadata": {},
   "outputs": [
    {
     "name": "stderr",
     "output_type": "stream",
     "text": [
      "MovieWriter ffmpeg unavailable; using Pillow instead.\n"
     ]
    },
    {
     "data": {
      "image/png": "[encoded data removed]",
      "text/plain": [
       "<Figure size 640x480 with 1 Axes>"
      ]
     },
     "metadata": {},
     "output_type": "display_data"
    }
   ],
   "source": [
    "animate_life(new_l, gif_name=\"random2\")"
   ]
  },
  {
   "cell_type": "markdown",
   "id": "a137c842",
   "metadata": {},
   "source": [
    "## Pulsar"
   ]
  },
  {
   "cell_type": "code",
   "execution_count": 38,
   "id": "29a284a3",
   "metadata": {},
   "outputs": [],
   "source": [
    "pulsar = load_initial_state(\"pulsar.txt\")"
   ]
  },
  {
   "cell_type": "code",
   "execution_count": 39,
   "id": "4f8de486",
   "metadata": {},
   "outputs": [],
   "source": [
    "LG = GameOfLife(pulsar, 500)\n",
    "pulsar_states = LG.game_of_life()"
   ]
  },
  {
   "cell_type": "code",
   "execution_count": 40,
   "id": "502644e5",
   "metadata": {},
   "outputs": [],
   "source": [
    "pulsar_results = clean_results(pulsar_states, pulsar.shape[1])"
   ]
  },
  {
   "cell_type": "code",
   "execution_count": 41,
   "id": "4d0edd0b",
   "metadata": {},
   "outputs": [
    {
     "name": "stderr",
     "output_type": "stream",
     "text": [
      "MovieWriter ffmpeg unavailable; using Pillow instead.\n"
     ]
    },
    {
     "data": {
      "image/png": "[encoded data removed]",
      "text/plain": [
       "<Figure size 640x480 with 1 Axes>"
      ]
     },
     "metadata": {},
     "output_type": "display_data"
    }
   ],
   "source": [
    "animate_life(pulsar_results, gif_name=\"pulsar\")"
   ]
  },
  {
   "cell_type": "code",
   "execution_count": 51,
   "id": "be881475",
   "metadata": {},
   "outputs": [],
   "source": [
    "tictactoe = load_initial_state(\"tictactoe.txt\")"
   ]
  },
  {
   "cell_type": "code",
   "execution_count": 52,
   "id": "c2364b4f",
   "metadata": {},
   "outputs": [],
   "source": [
    "LG = GameOfLife(tictactoe, 200)\n",
    "tictactoe_states = LG.game_of_life()"
   ]
  },
  {
   "cell_type": "code",
   "execution_count": 53,
   "id": "8e04d78f",
   "metadata": {},
   "outputs": [],
   "source": [
    "tictactoe_results = clean_results(tictactoe_states, tictactoe.shape[1])"
   ]
  },
  {
   "cell_type": "code",
   "execution_count": 54,
   "id": "5a03f132",
   "metadata": {
    "collapsed": true
   },
   "outputs": [
    {
     "name": "stderr",
     "output_type": "stream",
     "text": [
      "MovieWriter ffmpeg unavailable; using Pillow instead.\n"
     ]
    },
    {
     "data": {
      "image/png": "[encoded data removed]",
      "text/plain": [
       "<Figure size 640x480 with 1 Axes>"
      ]
     },
     "metadata": {},
     "output_type": "display_data"
    }
   ],
   "source": [
    "animate_life(tictactoe_results, gif_name=\"tictactoe\")"
   ]
  },
  {
   "cell_type": "markdown",
   "id": "0940d9ac",
   "metadata": {},
   "source": [
    "## Glider explosion"
   ]
  },
  {
   "cell_type": "code",
   "execution_count": 70,
   "id": "b99ae182",
   "metadata": {},
   "outputs": [],
   "source": [
    "glider = load_initial_state(\"glider_explosion.txt\")"
   ]
  },
  {
   "cell_type": "code",
   "execution_count": 71,
   "id": "5e597c53",
   "metadata": {},
   "outputs": [],
   "source": [
    "LG = GameOfLife(glider, 500)\n",
    "glider_states = LG.game_of_life()"
   ]
  },
  {
   "cell_type": "code",
   "execution_count": 72,
   "id": "783ce153",
   "metadata": {},
   "outputs": [],
   "source": [
    "glider_results = clean_results(glider_states, glider.shape[1])"
   ]
  },
  {
   "cell_type": "code",
   "execution_count": 73,
   "id": "f69d9795",
   "metadata": {},
   "outputs": [
    {
     "name": "stderr",
     "output_type": "stream",
     "text": [
      "MovieWriter ffmpeg unavailable; using Pillow instead.\n"
     ]
    },
    {
     "data": {
      "image/png": "[encoded data removed]",
      "text/plain": [
       "<Figure size 640x480 with 1 Axes>"
      ]
     },
     "metadata": {},
     "output_type": "display_data"
    }
   ],
   "source": [
    "animate_life(glider_results, gif_name=\"glider\")"
   ]
  }
 ],
 "metadata": {
  "kernelspec": {
   "display_name": "Python 3 (ipykernel)",
   "language": "python",
   "name": "python3"
  },
  "language_info": {
   "codemirror_mode": {
    "name": "ipython",
    "version": 3
   },
   "file_extension": ".py",
   "mimetype": "text/x-python",
   "name": "python",
   "nbconvert_exporter": "python",
   "pygments_lexer": "ipython3",
   "version": "3.11.3"
  }
 },
 "nbformat": 4,
 "nbformat_minor": 5
}
