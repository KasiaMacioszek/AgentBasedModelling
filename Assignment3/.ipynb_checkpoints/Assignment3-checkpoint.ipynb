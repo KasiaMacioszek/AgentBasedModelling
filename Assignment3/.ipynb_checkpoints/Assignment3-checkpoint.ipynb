{
 "cells": [
  {
   "cell_type": "markdown",
   "id": "0a9206a5",
   "metadata": {},
   "source": [
    "PARAMETERS"
   ]
  },
  {
   "cell_type": "code",
   "execution_count": null,
   "id": "d72e7c04",
   "metadata": {},
   "outputs": [],
   "source": [
    "#here define parameters (global vars)"
   ]
  },
  {
   "cell_type": "markdown",
   "id": "6b3ac254",
   "metadata": {},
   "source": [
    "elementary event:\n",
    "\n",
    "*choose agent randomly\n",
    "\n",
    "*we calculate SNI - similar neighbor index\n",
    "\n",
    "*we move the agent or not depending on SNI\n",
    "\n",
    "1MC step is taking as many agents as we have in the model (N elementary events) - 1 cycle\n",
    "\n",
    "Simulate as long as anyone is unhappy\n",
    "\n",
    "\n",
    "Animations - two animations (m=8, N=4000, j=0.5 and (jb=3/8, jr=5/8)\n",
    "\n",
    "population sizes: 250, 500, ..., 4000\n",
    "\n",
    "number of simulations for every size: 100\n",
    "\n",
    "if SNI = 0/0 we move the agent anyway\n",
    "\n",
    "for point 3 - mt = 8, jt = 0.5\n",
    "\n",
    "for points 4/5 - mean SNI at the end of simulation (4: j = 0.1, 0.2, ..., 0.9; m=8; N in [1000, 4000] (pick one)) (5: m = 8, 24, 48, 80, 120; N in [1000, 4000], j = 0.5)\n",
    "\n",
    "Connect edges so that everyone has the same neighborhood size"
   ]
  },
  {
   "cell_type": "code",
   "execution_count": 255,
   "id": "c9b62169",
   "metadata": {},
   "outputs": [],
   "source": [
    "import numpy as np\n",
    "from matplotlib import pyplot as plt, animation\n",
    "import seaborn as sns\n",
    "from matplotlib.colors import ListedColormap"
   ]
  },
  {
   "cell_type": "code",
   "execution_count": 256,
   "id": "a98e4be0",
   "metadata": {},
   "outputs": [],
   "source": [
    "class Schelling():\n",
    "    def __init__(self, Nb, Nr, jb, jr, mr, mb, L=100):\n",
    "        #1 - blue; 2 - red\n",
    "        self.L = L\n",
    "        self.N = Nb + Nr\n",
    "        self.Nb = Nb\n",
    "        self.Nr = Nr\n",
    "        self.jb = jb\n",
    "        self.jr = jr\n",
    "        self.mb = mb\n",
    "        self.mr = mr\n",
    "        self.state = np.zeros(self.L*self.L)\n",
    "        self.agents_positions = []\n",
    "    \n",
    "    def get_neighbors(self, pos):\n",
    "        x, y = pos\n",
    "        if (self.state[pos[0], pos[1]] == 1) or (self.mb == self.mr):\n",
    "            neighbor_positions = [(i % self.L, j % self.L) for i in range(x-self.mb, x+self.mb+1)\n",
    "                                  for j in range(y-self.mb, y+self.mb+1) if (i, j) != (x, y)]\n",
    "        else:\n",
    "            neighbor_positions = [(i % self.L, j % self.L) for i in range(x-self.mr, x+self.mr+1)\n",
    "                                  for j in range(y-self.mr, y+self.mr+1) if (i, j) != (x, y)]\n",
    "            \n",
    "        return neighbor_positions\n",
    "    \n",
    "    def initiate_model(self):\n",
    "        self.state = np.zeros(self.L*self.L)\n",
    "        length = len(self.state)\n",
    "        indices = np.random.choice(list(range(length)), size=self.Nb+self.Nr, replace=False)\n",
    "        self.state[indices[0:self.Nb]] = 1\n",
    "        self.state[indices[self.Nb:]] = 2\n",
    "        self.state = np.reshape(self.state, (self.L, self.L))\n",
    "        \n",
    "    def get_agents(self):\n",
    "        row_indices, col_indices = np.where(self.state != 0)\n",
    "        self.agents_positions = list(zip(row_indices, col_indices))\n",
    "        \n",
    "    def calculate_SNI(self, agent_position, agent_state):\n",
    "        agent_neighbors = self.get_neighbors(agent_position)\n",
    "        neighbors_opinions = [self.state[pos[0], pos[1]] for pos in agent_neighbors]\n",
    "        vals, counts = np.unique(neighbors_opinions, return_counts=True)\n",
    "        states_dict = dict(zip(vals, counts))\n",
    "        \n",
    "        contrary_state = 1 if agent_state == 2 else 2\n",
    "        values = list(states_dict.values())[1:] if 0 in states_dict else list(states_dict.values())\n",
    "        if sum(values) == 0 or agent_state not in states_dict:\n",
    "            return 0\n",
    "        return states_dict[agent_state]/sum(values)\n",
    "        \n",
    "    def simulate(self):\n",
    "        self.initiate_model()\n",
    "        self.get_agents()\n",
    "        \n",
    "        all_satisfied = False\n",
    "        number_of_MC_steps = 0\n",
    "        \n",
    "        while not all_satisfied:\n",
    "            number_of_MC_steps += 1\n",
    "            for i in range(self.N):\n",
    "                agent_index = np.random.randint(len(self.agents_positions))\n",
    "                agent_position = self.agents_positions[agent_index]\n",
    "                agent_state = self.state[agent_position[0], agent_position[1]]\n",
    "                \n",
    "                SNI = self.calculate_SNI(agent_position, agent_state)\n",
    "                \n",
    "                if (agent_state == 1 and SNI < self.jb) or (agent_state == 2 and SNI < self.jr):\n",
    "                    new_index = np.random.randint(self.L, size=2)\n",
    "                    while self.state[new_index[0], new_index[1]] != 0:\n",
    "                        new_index = np.random.randint(self.L, size=2)\n",
    "                    self.state[agent_position[0], agent_position[1]] = 0\n",
    "                    self.state[new_index[0], new_index[1]] = agent_state\n",
    "                    self.agents_positions[agent_index] = tuple(new_index)\n",
    "                    \n",
    "            unsatisfied_agents = False\n",
    "            segregation_index = 0\n",
    "            for i, agent_position in enumerate(self.agents_positions):\n",
    "                agent_state = self.state[agent_position[0], agent_position[1]]\n",
    "                SNI = self.calculate_SNI(agent_position, agent_state)\n",
    "                segregation_index += SNI\n",
    "                if (agent_state == 1 and SNI < self.jb) or (agent_state == 2 and SNI < self.jr):\n",
    "                    unsatisfied_agents = True\n",
    "                    break\n",
    "            \n",
    "            if not unsatisfied_agents:\n",
    "                all_satisfied = True\n",
    "                \n",
    "        return segregation_index/self.N, number_of_MC_steps\n",
    "    \n",
    "    def simulate_and_save_animation(self, animation_name=\"anim\"):\n",
    "        self.initiate_model()\n",
    "        self.get_agents()\n",
    "        \n",
    "        all_satisfied = False\n",
    "        number_of_MC_steps = 0\n",
    "        \n",
    "        animation_states = self.state\n",
    "        while not all_satisfied:\n",
    "            animation_states = np.vstack([animation_states, self.state])\n",
    "            \n",
    "            for i in range(self.N):\n",
    "                agent_index = np.random.randint(len(self.agents_positions))\n",
    "                agent_position = self.agents_positions[agent_index]\n",
    "                agent_state = self.state[agent_position[0], agent_position[1]]\n",
    "                \n",
    "                SNI = self.calculate_SNI(agent_position, agent_state)\n",
    "                \n",
    "                if (agent_state == 1 and SNI < self.jb) or (agent_state == 2 and SNI < self.jr):\n",
    "                    new_index = np.random.randint(self.L, size=2)\n",
    "                    while self.state[new_index[0], new_index[1]] != 0:\n",
    "                        new_index = np.random.randint(self.L, size=2)\n",
    "                    self.state[agent_position[0], agent_position[1]] = 0\n",
    "                    self.state[new_index[0], new_index[1]] = agent_state\n",
    "                    self.agents_positions[agent_index] = tuple(new_index)\n",
    "                    \n",
    "            unsatisfied_agents = False\n",
    "            segregation_index = 0\n",
    "            for i, agent_position in enumerate(self.agents_positions):\n",
    "                agent_state = self.state[agent_position[0], agent_position[1]]\n",
    "                SNI = self.calculate_SNI(agent_position, agent_state)\n",
    "                segregation_index += SNI\n",
    "                if (agent_state == 1 and SNI < self.jb) or (agent_state == 2 and SNI < self.jr):\n",
    "                    unsatisfied_agents = True\n",
    "                    break\n",
    "            \n",
    "            if not unsatisfied_agents:\n",
    "                all_satisfied = True\n",
    "        animation_states = np.vstack([animation_states, self.state])\n",
    "        create_animation(self.clean_results(animation_states), animation_name)\n",
    "    \n",
    "    def clean_results(self, res):\n",
    "        new_res = list(np.zeros(int(len(res)/self.L-1)))\n",
    "        for i in range(len(new_res)):\n",
    "            new_res[i] = res[int((i+1)*self.L): int((i+2)*self.L)]\n",
    "        return new_res"
   ]
  },
  {
   "cell_type": "code",
   "execution_count": 257,
   "id": "47e97c55",
   "metadata": {},
   "outputs": [],
   "source": [
    "def create_animation(data, animation_name):\n",
    "    fig = plt.figure()\n",
    "    sns.heatmap(data[0], square=True, cbar=False, cmap=ListedColormap(['white', 'blue', 'red']), yticklabels=False, xticklabels=False)\n",
    "\n",
    "    def init():\n",
    "        sns.heatmap(data[0], square=True, cbar=False, cmap=ListedColormap(['white', 'blue', 'red']), yticklabels=False, xticklabels=False)\n",
    "\n",
    "    def animate(i):\n",
    "        sns.heatmap(data[i], square=True, cbar=False, cmap=ListedColormap(['white', 'blue', 'red']), yticklabels=False, xticklabels=False)\n",
    "\n",
    "    anim = animation.FuncAnimation(fig, animate, init_func=init, frames=len(data), repeat = False)\n",
    "    anim.save(f'images/{animation_name}.gif')"
   ]
  },
  {
   "cell_type": "code",
   "execution_count": 258,
   "id": "16dd8fb8",
   "metadata": {},
   "outputs": [],
   "source": [
    "Nb = Nr = 4000\n",
    "jb1 = jr1 = 1/2\n",
    "mb = mr = 1\n",
    "jb2 = 3/8\n",
    "jr2 = 5/8"
   ]
  },
  {
   "cell_type": "code",
   "execution_count": 247,
   "id": "83b49321",
   "metadata": {},
   "outputs": [],
   "source": [
    "S1 = Schelling(Nb, Nr, jb1, jr1, mr, mb, 100)"
   ]
  },
  {
   "cell_type": "code",
   "execution_count": 242,
   "id": "1c030e1a",
   "metadata": {},
   "outputs": [
    {
     "name": "stderr",
     "output_type": "stream",
     "text": [
      "MovieWriter ffmpeg unavailable; using Pillow instead.\n"
     ]
    },
    {
     "data": {
      "image/png": "[encoded data removed]",
      "text/plain": [
       "<Figure size 640x480 with 1 Axes>"
      ]
     },
     "metadata": {},
     "output_type": "display_data"
    }
   ],
   "source": [
    "S1.simulate_and_save_animation(\"anim_N_4000_j_05_m_1\")"
   ]
  },
  {
   "cell_type": "code",
   "execution_count": 253,
   "id": "0ad45053",
   "metadata": {},
   "outputs": [],
   "source": [
    "S1 = Schelling(250, 250, 0.5, 0.5, 1, 1, 100)"
   ]
  },
  {
   "cell_type": "code",
   "execution_count": 254,
   "id": "4d7b469f",
   "metadata": {},
   "outputs": [
    {
     "name": "stderr",
     "output_type": "stream",
     "text": [
      "MovieWriter ffmpeg unavailable; using Pillow instead.\n"
     ]
    },
    {
     "data": {
      "image/png": "[encoded data removed]",
      "text/plain": [
       "<Figure size 640x480 with 1 Axes>"
      ]
     },
     "metadata": {},
     "output_type": "display_data"
    }
   ],
   "source": [
    "S1.simulate_and_save_animation(\"anim_test\")"
   ]
  },
  {
   "cell_type": "code",
   "execution_count": 259,
   "id": "06572ce4",
   "metadata": {},
   "outputs": [],
   "source": [
    "S2 = Schelling(Nb, Nr, jb2, jr2, mr, mb, 100)"
   ]
  },
  {
   "cell_type": "code",
   "execution_count": 260,
   "id": "1012e74d",
   "metadata": {},
   "outputs": [
    {
     "ename": "KeyboardInterrupt",
     "evalue": "",
     "output_type": "error",
     "traceback": [
      "\u001b[1;31m---------------------------------------------------------------------------\u001b[0m",
      "\u001b[1;31mKeyboardInterrupt\u001b[0m                         Traceback (most recent call last)",
      "Cell \u001b[1;32mIn[260], line 1\u001b[0m\n\u001b[1;32m----> 1\u001b[0m \u001b[43mS2\u001b[49m\u001b[38;5;241;43m.\u001b[39;49m\u001b[43msimulate_and_save_animation\u001b[49m\u001b[43m(\u001b[49m\u001b[38;5;124;43m\"\u001b[39;49m\u001b[38;5;124;43manim_N_4000_jb_38_jr_58_m_1\u001b[39;49m\u001b[38;5;124;43m\"\u001b[39;49m\u001b[43m)\u001b[49m\n",
      "Cell \u001b[1;32mIn[256], line 105\u001b[0m, in \u001b[0;36mSchelling.simulate_and_save_animation\u001b[1;34m(self, animation_name)\u001b[0m\n\u001b[0;32m    102\u001b[0m agent_position \u001b[38;5;241m=\u001b[39m \u001b[38;5;28mself\u001b[39m\u001b[38;5;241m.\u001b[39magents_positions[agent_index]\n\u001b[0;32m    103\u001b[0m agent_state \u001b[38;5;241m=\u001b[39m \u001b[38;5;28mself\u001b[39m\u001b[38;5;241m.\u001b[39mstate[agent_position[\u001b[38;5;241m0\u001b[39m], agent_position[\u001b[38;5;241m1\u001b[39m]]\n\u001b[1;32m--> 105\u001b[0m SNI \u001b[38;5;241m=\u001b[39m \u001b[38;5;28;43mself\u001b[39;49m\u001b[38;5;241;43m.\u001b[39;49m\u001b[43mcalculate_SNI\u001b[49m\u001b[43m(\u001b[49m\u001b[43magent_position\u001b[49m\u001b[43m,\u001b[49m\u001b[43m \u001b[49m\u001b[43magent_state\u001b[49m\u001b[43m)\u001b[49m\n\u001b[0;32m    107\u001b[0m \u001b[38;5;28;01mif\u001b[39;00m (agent_state \u001b[38;5;241m==\u001b[39m \u001b[38;5;241m1\u001b[39m \u001b[38;5;129;01mand\u001b[39;00m SNI \u001b[38;5;241m<\u001b[39m \u001b[38;5;28mself\u001b[39m\u001b[38;5;241m.\u001b[39mjb) \u001b[38;5;129;01mor\u001b[39;00m (agent_state \u001b[38;5;241m==\u001b[39m \u001b[38;5;241m2\u001b[39m \u001b[38;5;129;01mand\u001b[39;00m SNI \u001b[38;5;241m<\u001b[39m \u001b[38;5;28mself\u001b[39m\u001b[38;5;241m.\u001b[39mjr):\n\u001b[0;32m    108\u001b[0m     new_index \u001b[38;5;241m=\u001b[39m np\u001b[38;5;241m.\u001b[39mrandom\u001b[38;5;241m.\u001b[39mrandint(\u001b[38;5;28mself\u001b[39m\u001b[38;5;241m.\u001b[39mL, size\u001b[38;5;241m=\u001b[39m\u001b[38;5;241m2\u001b[39m)\n",
      "Cell \u001b[1;32mIn[256], line 40\u001b[0m, in \u001b[0;36mSchelling.calculate_SNI\u001b[1;34m(self, agent_position, agent_state)\u001b[0m\n\u001b[0;32m     38\u001b[0m \u001b[38;5;28;01mdef\u001b[39;00m \u001b[38;5;21mcalculate_SNI\u001b[39m(\u001b[38;5;28mself\u001b[39m, agent_position, agent_state):\n\u001b[0;32m     39\u001b[0m     agent_neighbors \u001b[38;5;241m=\u001b[39m \u001b[38;5;28mself\u001b[39m\u001b[38;5;241m.\u001b[39mget_neighbors(agent_position)\n\u001b[1;32m---> 40\u001b[0m     neighbors_opinions \u001b[38;5;241m=\u001b[39m \u001b[43m[\u001b[49m\u001b[38;5;28;43mself\u001b[39;49m\u001b[38;5;241;43m.\u001b[39;49m\u001b[43mstate\u001b[49m\u001b[43m[\u001b[49m\u001b[43mpos\u001b[49m\u001b[43m[\u001b[49m\u001b[38;5;241;43m0\u001b[39;49m\u001b[43m]\u001b[49m\u001b[43m,\u001b[49m\u001b[43m \u001b[49m\u001b[43mpos\u001b[49m\u001b[43m[\u001b[49m\u001b[38;5;241;43m1\u001b[39;49m\u001b[43m]\u001b[49m\u001b[43m]\u001b[49m\u001b[43m \u001b[49m\u001b[38;5;28;43;01mfor\u001b[39;49;00m\u001b[43m \u001b[49m\u001b[43mpos\u001b[49m\u001b[43m \u001b[49m\u001b[38;5;129;43;01min\u001b[39;49;00m\u001b[43m \u001b[49m\u001b[43magent_neighbors\u001b[49m\u001b[43m]\u001b[49m\n\u001b[0;32m     41\u001b[0m     vals, counts \u001b[38;5;241m=\u001b[39m np\u001b[38;5;241m.\u001b[39munique(neighbors_opinions, return_counts\u001b[38;5;241m=\u001b[39m\u001b[38;5;28;01mTrue\u001b[39;00m)\n\u001b[0;32m     42\u001b[0m     states_dict \u001b[38;5;241m=\u001b[39m \u001b[38;5;28mdict\u001b[39m(\u001b[38;5;28mzip\u001b[39m(vals, counts))\n",
      "Cell \u001b[1;32mIn[256], line 40\u001b[0m, in \u001b[0;36m<listcomp>\u001b[1;34m(.0)\u001b[0m\n\u001b[0;32m     38\u001b[0m \u001b[38;5;28;01mdef\u001b[39;00m \u001b[38;5;21mcalculate_SNI\u001b[39m(\u001b[38;5;28mself\u001b[39m, agent_position, agent_state):\n\u001b[0;32m     39\u001b[0m     agent_neighbors \u001b[38;5;241m=\u001b[39m \u001b[38;5;28mself\u001b[39m\u001b[38;5;241m.\u001b[39mget_neighbors(agent_position)\n\u001b[1;32m---> 40\u001b[0m     neighbors_opinions \u001b[38;5;241m=\u001b[39m [\u001b[38;5;28mself\u001b[39m\u001b[38;5;241m.\u001b[39mstate[pos[\u001b[38;5;241m0\u001b[39m], pos[\u001b[38;5;241m1\u001b[39m]] \u001b[38;5;28;01mfor\u001b[39;00m pos \u001b[38;5;129;01min\u001b[39;00m agent_neighbors]\n\u001b[0;32m     41\u001b[0m     vals, counts \u001b[38;5;241m=\u001b[39m np\u001b[38;5;241m.\u001b[39munique(neighbors_opinions, return_counts\u001b[38;5;241m=\u001b[39m\u001b[38;5;28;01mTrue\u001b[39;00m)\n\u001b[0;32m     42\u001b[0m     states_dict \u001b[38;5;241m=\u001b[39m \u001b[38;5;28mdict\u001b[39m(\u001b[38;5;28mzip\u001b[39m(vals, counts))\n",
      "\u001b[1;31mKeyboardInterrupt\u001b[0m: "
     ]
    }
   ],
   "source": [
    "S2.simulate_and_save_animation(\"anim_N_4000_jb_38_jr_58_m_1\")"
   ]
  },
  {
   "cell_type": "markdown",
   "id": "5822c46f",
   "metadata": {},
   "source": [
    "## Number of iterations"
   ]
  },
  {
   "cell_type": "code",
   "execution_count": 248,
   "id": "c569e39e",
   "metadata": {},
   "outputs": [],
   "source": [
    "def num_of_iterations(Ns, m=8, j=0.5, num_of_simulations=100):\n",
    "    results = np.zeros(len(Ns))\n",
    "    for i, N in enumerate(Ns):\n",
    "        for _ in range(num_of_simulations):\n",
    "            S2 = Schelling(N, N, j, j, m, m, 100)\n",
    "            results[i] += S2.simulate()[1]\n",
    "        results[i] /= num_of_simulations\n",
    "    return results"
   ]
  },
  {
   "cell_type": "code",
   "execution_count": 249,
   "id": "8d969798",
   "metadata": {},
   "outputs": [],
   "source": [
    "Ns = np.arange(250, 4000, 250)"
   ]
  },
  {
   "cell_type": "code",
   "execution_count": 250,
   "id": "b241e7f2",
   "metadata": {},
   "outputs": [],
   "source": [
    "number_of_MC_steps = num_of_iterations(Ns)"
   ]
  },
  {
   "cell_type": "code",
   "execution_count": 251,
   "id": "91946afe",
   "metadata": {},
   "outputs": [
    {
     "name": "stderr",
     "output_type": "stream",
     "text": [
      "No artists with labels found to put in legend.  Note that artists whose label start with an underscore are ignored when legend() is called with no argument.\n"
     ]
    },
    {
     "data": {
      "image/png": "[encoded data removed]",
      "text/plain": [
       "<Figure size 1200x800 with 1 Axes>"
      ]
     },
     "metadata": {},
     "output_type": "display_data"
    }
   ],
   "source": [
    "plt.figure(figsize=(12, 8))\n",
    "plt.plot(Ns, number_of_MC_steps, marker='D', markersize=4)\n",
    "plt.legend()\n",
    "plt.title(\"Number of iterations as a function of population size\")\n",
    "plt.xlabel(\"Population size\")\n",
    "plt.ylabel(\"Number of iterations\")\n",
    "plt.savefig('images/mc_steps.png')"
   ]
  },
  {
   "cell_type": "markdown",
   "id": "fb8081fb",
   "metadata": {},
   "source": [
    "## Segregation index"
   ]
  },
  {
   "cell_type": "markdown",
   "id": "22bbcc9f",
   "metadata": {},
   "source": [
    "#### As a function of $j_{t}$"
   ]
  },
  {
   "cell_type": "code",
   "execution_count": 211,
   "id": "0c55e1ec",
   "metadata": {},
   "outputs": [],
   "source": [
    "def segregation_index(js, N, m=8, num_of_simulations=100):\n",
    "    for i, jt in enumerate(js):\n",
    "        for _ in range(num_of_simulations):\n",
    "            S2 = Schelling(N, N, jt, jt, m, m, 100)\n",
    "            results[i] += S2.simulate()[0]\n",
    "        results[i] /= num_of_simulations\n",
    "    return results"
   ]
  },
  {
   "cell_type": "code",
   "execution_count": 216,
   "id": "db270e07",
   "metadata": {},
   "outputs": [],
   "source": [
    "js = np.arange(0.1, 1, 0.1)\n",
    "N1 = 1000\n",
    "N2 = 4000"
   ]
  },
  {
   "cell_type": "code",
   "execution_count": null,
   "id": "5b624e3c",
   "metadata": {},
   "outputs": [],
   "source": [
    "segregation_index1 = segregation_index(js, N1)"
   ]
  },
  {
   "cell_type": "code",
   "execution_count": null,
   "id": "b6a00e0e",
   "metadata": {},
   "outputs": [],
   "source": [
    "segregation_index2 = segregation_index(js, N2)"
   ]
  },
  {
   "cell_type": "code",
   "execution_count": null,
   "id": "5471a74b",
   "metadata": {},
   "outputs": [],
   "source": [
    "plt.figure(figsize=(12, 8))\n",
    "plt.plot(js, segregation_index1, label=f\"N = {N1}\", marker='D', markersize=4)\n",
    "plt.plot(js, segregation_index2, label=f\"N = {N2}\", marker='*', markersize=5)\n",
    "plt.legend()\n",
    "plt.title(r\"Segregation index as a function of $j_{t}$\")\n",
    "plt.xlabel(r\"$j_{t}$\")\n",
    "plt.ylabel(\"Segregation index\")\n",
    "plt.savefig('images/segregation_index_j.png')"
   ]
  },
  {
   "cell_type": "markdown",
   "id": "06bdd604",
   "metadata": {},
   "source": [
    "#### As a function of $m_t$"
   ]
  },
  {
   "cell_type": "code",
   "execution_count": null,
   "id": "45349706",
   "metadata": {},
   "outputs": [],
   "source": [
    "def segregation_index(ms, N, j=0.5, num_of_simulations=100):\n",
    "    for i, mt in enumerate(ms):\n",
    "        for _ in range(num_of_simulations):\n",
    "            S2 = Schelling(N, N, j, j, mt, mt, 100)\n",
    "            results[i] += S2.simulate()[0]\n",
    "        results[i] /= num_of_simulations\n",
    "    return results"
   ]
  },
  {
   "cell_type": "code",
   "execution_count": null,
   "id": "b4bc69e6",
   "metadata": {},
   "outputs": [],
   "source": [
    "ms = np.array([8, 24, 48, 80, 120])"
   ]
  },
  {
   "cell_type": "code",
   "execution_count": null,
   "id": "4f7c171d",
   "metadata": {},
   "outputs": [],
   "source": [
    "segregation_index_m1 = segregation_index(ms, N1)"
   ]
  },
  {
   "cell_type": "code",
   "execution_count": null,
   "id": "549d95a1",
   "metadata": {},
   "outputs": [],
   "source": [
    "segregation_index_m2 = segregation_index(ms, N2)"
   ]
  },
  {
   "cell_type": "code",
   "execution_count": null,
   "id": "af5b1e26",
   "metadata": {},
   "outputs": [],
   "source": [
    "plt.figure(figsize=(12, 8))\n",
    "plt.plot(ms, segregation_index_m1, label=f\"N = {N1}\", marker='D', markersize=4)\n",
    "plt.plot(ms, segregation_index_m2, label=f\"N = {N2}\", marker='*', markersize=5)\n",
    "plt.legend()\n",
    "plt.title(r\"Segregation index as a function of $m_{t}$\")\n",
    "plt.xlabel(r\"$m_{t}$\")\n",
    "plt.ylabel(\"Segregation index\")\n",
    "plt.savefig('images/segregation_index_m.png')"
   ]
  }
 ],
 "metadata": {
  "kernelspec": {
   "display_name": "Python 3 (ipykernel)",
   "language": "python",
   "name": "python3"
  },
  "language_info": {
   "codemirror_mode": {
    "name": "ipython",
    "version": 3
   },
   "file_extension": ".py",
   "mimetype": "text/x-python",
   "name": "python",
   "nbconvert_exporter": "python",
   "pygments_lexer": "ipython3",
   "version": "3.11.3"
  }
 },
 "nbformat": 4,
 "nbformat_minor": 5
}
