{
 "cells": [
  {
   "cell_type": "markdown",
   "id": "49b2bac4",
   "metadata": {},
   "source": [
    "PARAMETERS"
   ]
  },
  {
   "cell_type": "code",
   "execution_count": null,
   "id": "0e41c42c",
   "metadata": {},
   "outputs": [],
   "source": [
    "#here define parameters (global vars)"
   ]
  },
  {
   "cell_type": "markdown",
   "id": "1591ac0c",
   "metadata": {},
   "source": [
    "elementary event:\n",
    "\n",
    "*choose agent randomly\n",
    "\n",
    "*we calculate SNI - similar neighbor index\n",
    "\n",
    "*we move the agent or not depending on SNI\n",
    "\n",
    "1MC step is taking as many agents as we have in the model (N elementary events) - 1 cycle\n",
    "\n",
    "Simulate as long as anyone is unhappy\n",
    "\n",
    "\n",
    "Animations - two animations (m=8, N=4000, j=0.5 and (jb=3/8, jr=5/8)\n",
    "\n",
    "population sizes: 250, 500, ..., 4000\n",
    "\n",
    "number of simulations for every size: 100\n",
    "\n",
    "if SNI = 0/0 we move the agent anyway\n",
    "\n",
    "for point 3 - mt = 8, jt = 0.5\n",
    "\n",
    "for points 4/5 - mean SNI at the end of simulation (4: j = 0.1, 0.2, ..., 0.9; m=8; N in [1000, 4000] (pick one)) (5: m = 8, 24, 48, 80, 120; N in [1000, 4000], j = 0.5)\n",
    "\n",
    "Connect edges so that everyone has the same neighborhood size"
   ]
  },
  {
   "cell_type": "code",
   "execution_count": 138,
   "id": "66c47511",
   "metadata": {},
   "outputs": [],
   "source": [
    "import numpy as np\n",
    "from matplotlib import pyplot as plt, animation\n",
    "import seaborn as sns\n",
    "from matplotlib.colors import ListedColormap"
   ]
  },
  {
   "cell_type": "code",
   "execution_count": 190,
   "id": "fa7c48dd",
   "metadata": {},
   "outputs": [],
   "source": [
    "class Schelling():\n",
    "    def __init__(self, Nb, Nr, jb, jr, mr, mb, L=100):\n",
    "        #1 - blue; 2 - red\n",
    "        self.L = L\n",
    "        self.N = Nb + Nr\n",
    "        self.Nb = Nb\n",
    "        self.Nr = Nr\n",
    "        self.jb = jb\n",
    "        self.jr = jr\n",
    "        self.mb = mb\n",
    "        self.mr = mr\n",
    "        self.state = np.zeros(self.L*self.L)\n",
    "        self.agents_positions = []\n",
    "    \n",
    "    def get_neighbors(self, pos):\n",
    "        if (self.state[pos[0], pos[1]] == 1) or (self.mb == self.mr):\n",
    "            x, y = pos\n",
    "            neighbor_positions = [(i % self.L, j % self.L) for i in range(x-self.mb, x+self.mb+1)\n",
    "                                  for j in range(y-self.mb, y+self.mb+1)\n",
    "                                  if (i, j) != (x, y)]\n",
    "        else:\n",
    "            neighbor_positions = [(i % self.L, j % self.L) for i in range(x-self.mr, x+self.mr+1)\n",
    "                                  for j in range(y-self.mr, y+self.mr+1)\n",
    "                                  if (i, j) != (x, y)]\n",
    "            \n",
    "        return neighbor_positions\n",
    "    \n",
    "    def initiate_model(self):\n",
    "        self.state = np.zeros(self.L*self.L)\n",
    "        length = len(self.state)\n",
    "        indices = np.random.randint(length, size=self.Nb+self.Nr)\n",
    "        self.state[indices[0:self.Nb]] = 1\n",
    "        self.state[indices[self.Nb:]] = 2\n",
    "        self.state = np.reshape(self.state, (self.L, self.L))\n",
    "        \n",
    "    def get_agents(self):\n",
    "        row_indices, col_indices = np.where(self.state != 0)\n",
    "        self.agents_positions = list(zip(row_indices, col_indices))\n",
    "        \n",
    "    def calculate_SNI(self, agent_position, agent_state):\n",
    "        agent_neighbors = self.get_neighbors(agent_position)\n",
    "        neighbors_opinions = [self.state[pos[0], pos[1]] for pos in agent_neighbors]\n",
    "        vals, counts = np.unique(neighbors_opinions, return_counts=True)\n",
    "        states_dict = dict(zip(vals, counts))\n",
    "        \n",
    "        contrary_state = 1 if agent_state == 2 else 2\n",
    "        values = list(states_dict.values())[1:]\n",
    "        if sum(values) == 0 or agent_state not in states_dict:\n",
    "            return 0\n",
    "        return states_dict[agent_state]/sum(values)\n",
    "        \n",
    "    def simulate(self):\n",
    "        self.initiate_model()\n",
    "        self.get_agents()\n",
    "        \n",
    "        all_satisfied = False\n",
    "        number_of_MC_steps = 0\n",
    "        \n",
    "        while not all_satisfied:\n",
    "            number_of_MC_steps += 1\n",
    "            for i in range(self.N):\n",
    "                agent_index = np.random.randint(len(self.agents_positions))\n",
    "                agent_position = self.agents_positions[agent_index]\n",
    "                agent_state = self.state[agent_position[0], agent_position[1]]\n",
    "                \n",
    "                SNI = self.calculate_SNI(agent_position, agent_state)\n",
    "                \n",
    "                if (agent_state == 1 and SNI < jb) or (agent_state == 2 and SNI < jr):\n",
    "                    new_index = np.random.randint(self.L, size=2)\n",
    "                    while self.state[new_index[0], new_index[1]] != 0:\n",
    "                        new_index = np.random.randint(self.L, size=2)\n",
    "                    self.state[agent_position[0], agent_position[1]] = 0\n",
    "                    self.state[new_index[0], new_index[1]] = agent_state\n",
    "                    self.agents_positions[agent_index] = tuple(new_index)\n",
    "                    \n",
    "            unsatisfied_agents = False\n",
    "            segregation_index = 0\n",
    "            for i, agent_position in enumerate(self.agents_positions):\n",
    "                agent_state = self.state[agent_position[0], agent_position[1]]\n",
    "                SNI = self.calculate_SNI(agent_position, agent_state)\n",
    "                segregation_index += SNI\n",
    "                if (agent_state == 1 and SNI < jb) or (agent_state == 2 and SNI < jr):\n",
    "                    unsatisfied_agents = True\n",
    "                    break\n",
    "            \n",
    "            if not unsatisfied_agents:\n",
    "                all_satisfied = True\n",
    "                \n",
    "        return segregation_index/self.N, number_of_MC_steps\n",
    "    \n",
    "    def simulate_and_save_animation(self, animation_name=\"anim\"):\n",
    "        self.initiate_model()\n",
    "        self.get_agents()\n",
    "        \n",
    "        all_satisfied = False\n",
    "        number_of_MC_steps = 0\n",
    "        \n",
    "        animation_states = self.state\n",
    "        while not all_satisfied:\n",
    "            animation_states = np.vstack([animation_states, self.state])\n",
    "            \n",
    "            for i in range(self.N):\n",
    "                agent_index = np.random.randint(len(self.agents_positions))\n",
    "                agent_position = self.agents_positions[agent_index]\n",
    "                agent_state = self.state[agent_position[0], agent_position[1]]\n",
    "                \n",
    "                SNI = self.calculate_SNI(agent_position, agent_state)\n",
    "                \n",
    "                if (agent_state == 1 and SNI < jb) or (agent_state == 2 and SNI < jr):\n",
    "                    new_index = np.random.randint(self.L, size=2)\n",
    "                    while self.state[new_index[0], new_index[1]] != 0:\n",
    "                        new_index = np.random.randint(self.L, size=2)\n",
    "                    self.state[agent_position[0], agent_position[1]] = 0\n",
    "                    self.state[new_index[0], new_index[1]] = agent_state\n",
    "                    self.agents_positions[agent_index] = tuple(new_index)\n",
    "                    \n",
    "            unsatisfied_agents = False\n",
    "            segregation_index = 0\n",
    "            for i, agent_position in enumerate(self.agents_positions):\n",
    "                agent_state = self.state[agent_position[0], agent_position[1]]\n",
    "                SNI = self.calculate_SNI(agent_position, agent_state)\n",
    "                segregation_index += SNI\n",
    "                if (agent_state == 1 and SNI < jb) or (agent_state == 2 and SNI < jr):\n",
    "                    unsatisfied_agents = True\n",
    "                    break\n",
    "            \n",
    "            if not unsatisfied_agents:\n",
    "                all_satisfied = True\n",
    "        animation_states = np.vstack([animation_states, self.state])\n",
    "        create_animation(self.clean_results(animation_states), animation_name)\n",
    "    \n",
    "    def clean_results(self, res):\n",
    "        new_res = list(np.zeros(int(len(res)/self.L-1)))\n",
    "        for i in range(len(new_res)):\n",
    "            new_res[i] = res[int((i+1)*self.L): int((i+2)*self.L)]\n",
    "        return new_res"
   ]
  },
  {
   "cell_type": "code",
   "execution_count": 191,
   "id": "ea7f67bc",
   "metadata": {},
   "outputs": [],
   "source": [
    "def create_animation(data, animation_name):\n",
    "    fig = plt.figure()\n",
    "    sns.heatmap(data[0], square=True, cbar=False, cmap=ListedColormap(['white', 'blue', 'red']), yticklabels=False, xticklabels=False)\n",
    "\n",
    "    def init():\n",
    "        sns.heatmap(data[0], square=True, cbar=False, cmap=ListedColormap(['white', 'blue', 'red']), yticklabels=False, xticklabels=False)\n",
    "\n",
    "    def animate(i):\n",
    "        sns.heatmap(data[i], square=True, cbar=False, cmap=ListedColormap(['white', 'blue', 'red']), yticklabels=False, xticklabels=False)\n",
    "\n",
    "    anim = animation.FuncAnimation(fig, animate, init_func=init, frames=len(data), repeat = False)\n",
    "    anim.save(f'images/{animation_name}.gif')"
   ]
  },
  {
   "cell_type": "code",
   "execution_count": 192,
   "id": "5c6f59d8",
   "metadata": {},
   "outputs": [],
   "source": [
    "Nb = Nr = 1000\n",
    "jb = jr = 1/2\n",
    "mb = mr = 1"
   ]
  },
  {
   "cell_type": "code",
   "execution_count": 193,
   "id": "afa9c04d",
   "metadata": {},
   "outputs": [],
   "source": [
    "S = Schelling(Nb, Nr, jb, jr, mr, mb, 100)"
   ]
  },
  {
   "cell_type": "code",
   "execution_count": 194,
   "id": "81208f2e",
   "metadata": {},
   "outputs": [
    {
     "name": "stderr",
     "output_type": "stream",
     "text": [
      "MovieWriter ffmpeg unavailable; using Pillow instead.\n"
     ]
    },
    {
     "data": {
      "image/png": "[encoded data removed]",
      "text/plain": [
       "<Figure size 640x480 with 1 Axes>"
      ]
     },
     "metadata": {},
     "output_type": "display_data"
    }
   ],
   "source": [
    "S.simulate_and_save_animation(\"test_anim_N_1000_j_05_m_1\")"
   ]
  },
  {
   "cell_type": "code",
   "execution_count": null,
   "id": "368bebd6",
   "metadata": {},
   "outputs": [],
   "source": []
  }
 ],
 "metadata": {
  "kernelspec": {
   "display_name": "Python 3 (ipykernel)",
   "language": "python",
   "name": "python3"
  },
  "language_info": {
   "codemirror_mode": {
    "name": "ipython",
    "version": 3
   },
   "file_extension": ".py",
   "mimetype": "text/x-python",
   "name": "python",
   "nbconvert_exporter": "python",
   "pygments_lexer": "ipython3",
   "version": "3.11.3"
  }
 },
 "nbformat": 4,
 "nbformat_minor": 5
}
